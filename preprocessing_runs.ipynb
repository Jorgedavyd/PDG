{
 "cells": [
  {
   "cell_type": "code",
   "execution_count": 1,
   "metadata": {},
   "outputs": [
    {
     "name": "stderr",
     "output_type": "stream",
     "text": [
      "C:\\Users\\jorge\\AppData\\Local\\Packages\\PythonSoftwareFoundation.Python.3.10_qbz5n2kfra8p0\\LocalCache\\local-packages\\Python310\\site-packages\\libpysal\\cg\\alpha_shapes.py:39: NumbaDeprecationWarning: \u001b[1mThe 'nopython' keyword argument was not supplied to the 'numba.jit' decorator. The implicit default value for this argument is currently False, but it will be changed to True in Numba 0.59.0. See https://numba.readthedocs.io/en/stable/reference/deprecation.html#deprecation-of-object-mode-fall-back-behaviour-when-using-jit for details.\u001b[0m\n",
      "  def nb_dist(x, y):\n",
      "C:\\Users\\jorge\\AppData\\Local\\Packages\\PythonSoftwareFoundation.Python.3.10_qbz5n2kfra8p0\\LocalCache\\local-packages\\Python310\\site-packages\\libpysal\\cg\\alpha_shapes.py:165: NumbaDeprecationWarning: \u001b[1mThe 'nopython' keyword argument was not supplied to the 'numba.jit' decorator. The implicit default value for this argument is currently False, but it will be changed to True in Numba 0.59.0. See https://numba.readthedocs.io/en/stable/reference/deprecation.html#deprecation-of-object-mode-fall-back-behaviour-when-using-jit for details.\u001b[0m\n",
      "  def get_faces(triangle):\n",
      "C:\\Users\\jorge\\AppData\\Local\\Packages\\PythonSoftwareFoundation.Python.3.10_qbz5n2kfra8p0\\LocalCache\\local-packages\\Python310\\site-packages\\libpysal\\cg\\alpha_shapes.py:199: NumbaDeprecationWarning: \u001b[1mThe 'nopython' keyword argument was not supplied to the 'numba.jit' decorator. The implicit default value for this argument is currently False, but it will be changed to True in Numba 0.59.0. See https://numba.readthedocs.io/en/stable/reference/deprecation.html#deprecation-of-object-mode-fall-back-behaviour-when-using-jit for details.\u001b[0m\n",
      "  def build_faces(faces, triangles_is, num_triangles, num_faces_single):\n",
      "C:\\Users\\jorge\\AppData\\Local\\Packages\\PythonSoftwareFoundation.Python.3.10_qbz5n2kfra8p0\\LocalCache\\local-packages\\Python310\\site-packages\\libpysal\\cg\\alpha_shapes.py:261: NumbaDeprecationWarning: \u001b[1mThe 'nopython' keyword argument was not supplied to the 'numba.jit' decorator. The implicit default value for this argument is currently False, but it will be changed to True in Numba 0.59.0. See https://numba.readthedocs.io/en/stable/reference/deprecation.html#deprecation-of-object-mode-fall-back-behaviour-when-using-jit for details.\u001b[0m\n",
      "  def nb_mask_faces(mask, faces):\n"
     ]
    }
   ],
   "source": [
    "from utils.preprocessing import *\n",
    "from utils.pseudo_abscence import *\n",
    "from utils.random_utils import *"
   ]
  },
  {
   "cell_type": "markdown",
   "metadata": {},
   "source": [
    "# MAIN PREPROCESSING TASK"
   ]
  },
  {
   "cell_type": "code",
   "execution_count": 16,
   "metadata": {},
   "outputs": [
    {
     "name": "stdout",
     "output_type": "stream",
     "text": [
      "Select the dataset: \n",
      "\n",
      "1. data\\data.csv\n",
      "\n",
      "2. data\\data_2.csv\n",
      "\n"
     ]
    },
    {
     "name": "stderr",
     "output_type": "stream",
     "text": [
      "Analyzing locations...: 100%|██████████| 15/15 [00:11<00:00,  1.29it/s]\n"
     ]
    },
    {
     "name": "stdout",
     "output_type": "stream",
     "text": [
      "1. Generating pseudo-absence points:\n",
      "\n",
      "1.1. Min-Max radius analysis\n"
     ]
    },
    {
     "name": "stderr",
     "output_type": "stream",
     "text": [
      "Generating Min-Max radius area ...: 100%|██████████| 15/15 [04:16<00:00, 17.12s/it]\n"
     ]
    },
    {
     "name": "stdout",
     "output_type": "stream",
     "text": [
      "Done!\n",
      "1.2. Bioclim variable analysis ...\n"
     ]
    },
    {
     "name": "stderr",
     "output_type": "stream",
     "text": [
      "Statistical analysis ...: 100%|██████████| 6/6 [00:00<00:00, 374.97it/s]"
     ]
    },
    {
     "name": "stdout",
     "output_type": "stream",
     "text": [
      "Done!\n",
      "1.3. Picking random pseudo-absence points\n",
      "Done\n"
     ]
    },
    {
     "name": "stderr",
     "output_type": "stream",
     "text": [
      "\n"
     ]
    }
   ],
   "source": [
    "torch_dataset, numpu_dataset = data_preprocess(URLs.url600s, 50, 60, boxes.South_America)"
   ]
  },
  {
   "cell_type": "code",
   "execution_count": 15,
   "metadata": {},
   "outputs": [
    {
     "name": "stdout",
     "output_type": "stream",
     "text": [
      "tensor([ 0.7073,  1.5763,  1.3382,  1.2288,  1.3265,  0.3242,  1.4479, -0.3200,\n",
      "         0.9427,  1.4377, -0.2729, -0.9873,  0.0354, -1.0706,  1.4798, -0.9985,\n",
      "        -0.7102,  1.3135, -1.1912,  1.2494,  1.1817]) tensor(0.)\n"
     ]
    },
    {
     "data": {
      "text/plain": [
       "torch.Size([21])"
      ]
     },
     "execution_count": 15,
     "metadata": {},
     "output_type": "execute_result"
    }
   ],
   "source": [
    "for x,y in torch_dataset:\n",
    "    print(x,y)\n",
    "    break\n",
    "x.shape"
   ]
  },
  {
   "cell_type": "code",
   "execution_count": 18,
   "metadata": {},
   "outputs": [
    {
     "name": "stdout",
     "output_type": "stream",
     "text": [
      "1\n",
      "2\n"
     ]
    }
   ],
   "source": []
  },
  {
   "cell_type": "code",
   "execution_count": 12,
   "metadata": {},
   "outputs": [
    {
     "data": {
      "text/plain": [
       "array([ 1.47291247,  2.70883614, -1.03542995, -0.36004801, -0.11173214,\n",
       "       -0.43126245,  0.29833851,  0.32598112, -0.31101484, -1.58701101,\n",
       "        0.86731972,  0.39370144,  0.53405093, -0.50537248,  0.72612649,\n",
       "        3.61042435, -0.67285888, -3.37158128,  0.48781463, -0.76619518,\n",
       "        0.70396036,  3.63270329,  0.77345909, -1.93186617,  1.30380379,\n",
       "        3.5001711 , -1.20096772, -2.39030558, -0.98215281, -1.12976639,\n",
       "        0.63504726,  3.3562108 , -0.43204188, -2.87387164,  0.09302576,\n",
       "        1.56868769, -0.3563525 , -2.10736621, -0.00966788, -2.09605458,\n",
       "        0.34664971,  1.60658391,  0.        ,  0.        ,  1.47291247,\n",
       "        2.70883614, -1.03542995, -0.36004801, -0.11173214, -0.43126245,\n",
       "        0.29833851,  0.32598112, -0.31101484, -1.58701101,  0.86731972,\n",
       "        0.39370144,  0.53405093, -0.50537248,  0.72612649,  3.61042435,\n",
       "       -0.67285888, -3.37158128,  0.48781463, -0.76619518,  0.70396036,\n",
       "        3.63270329,  0.77345909, -1.93186617,  1.30380379,  3.5001711 ,\n",
       "       -1.20096772, -2.39030558, -0.98215281, -1.12976639,  0.63504726,\n",
       "        3.3562108 , -0.43204188, -2.87387164,  0.09302576,  1.56868769,\n",
       "       -0.3563525 , -2.10736621, -0.00966788, -2.09605458,  0.34664971,\n",
       "        1.60658391])"
      ]
     },
     "execution_count": 12,
     "metadata": {},
     "output_type": "execute_result"
    }
   ],
   "source": [
    "numpu_dataset[0][1]"
   ]
  },
  {
   "cell_type": "markdown",
   "metadata": {},
   "source": [
    "# MIN-MAX RADIUS TASK"
   ]
  },
  {
   "cell_type": "code",
   "execution_count": null,
   "metadata": {},
   "outputs": [],
   "source": [
    "def haversine(lat1, lon1, lat2, lon2):\n",
    "    \"\"\"\n",
    "    Calculate the great-circle distance between two points \n",
    "    on the Earth's surface using the Haversine formula.\n",
    "    \"\"\"\n",
    "    R = 6371.0  # Earth radius in kilometers\n",
    "\n",
    "    lat1_rad = np.radians(lat1)\n",
    "    lon1_rad = np.radians(lon1)\n",
    "    lat2_rad = np.radians(lat2)\n",
    "    lon2_rad = np.radians(lon2)\n",
    "\n",
    "    dlat = lat2_rad - lat1_rad\n",
    "    dlon = lon2_rad - lon1_rad\n",
    "\n",
    "    a = np.sin(dlat / 2.0) ** 2 + np.cos(lat1_rad) * np.cos(lat2_rad) * np.sin(dlon / 2.0) ** 2\n",
    "    c = 2 * np.arctan2(np.sqrt(a), np.sqrt(1 - a))\n",
    "\n",
    "    distance = R * c\n",
    "    return distance\n"
   ]
  },
  {
   "cell_type": "code",
   "execution_count": 11,
   "metadata": {},
   "outputs": [
    {
     "data": {
      "text/plain": [
       "[]"
      ]
     },
     "execution_count": 11,
     "metadata": {},
     "output_type": "execute_result"
    }
   ],
   "source": [
    "file_list = glob.glob('/data/*.csv}')\n",
    "file_list\n"
   ]
  },
  {
   "cell_type": "code",
   "execution_count": 15,
   "metadata": {},
   "outputs": [],
   "source": [
    "file_list = glob.glob(os.path.join('data/', \"*.csv\")) + glob.glob(os.path.join('data/', \"*.xlsx\"))"
   ]
  },
  {
   "cell_type": "code",
   "execution_count": 16,
   "metadata": {},
   "outputs": [
    {
     "data": {
      "text/plain": [
       "['data\\\\data.csv']"
      ]
     },
     "execution_count": 16,
     "metadata": {},
     "output_type": "execute_result"
    }
   ],
   "source": [
    "file_list"
   ]
  },
  {
   "cell_type": "code",
   "execution_count": 14,
   "metadata": {},
   "outputs": [
    {
     "data": {
      "text/plain": [
       "['data\\\\data.csv']"
      ]
     },
     "execution_count": 14,
     "metadata": {},
     "output_type": "execute_result"
    }
   ],
   "source": [
    "glob.glob('data/*.csv')"
   ]
  },
  {
   "cell_type": "code",
   "execution_count": 17,
   "metadata": {},
   "outputs": [
    {
     "data": {
      "text/plain": [
       "Longitude   -49.153361\n",
       "Latitude    -14.795433\n",
       "Presence      1.000000\n",
       "Name: mean, dtype: float64"
      ]
     },
     "execution_count": 17,
     "metadata": {},
     "output_type": "execute_result"
    }
   ],
   "source": [
    "dependent.describe().T['mean']"
   ]
  },
  {
   "cell_type": "code",
   "execution_count": 6,
   "metadata": {},
   "outputs": [],
   "source": [
    "independent = tif_to_dataframe('variables/10m', bounding_box=boxes.South_America)"
   ]
  },
  {
   "cell_type": "code",
   "execution_count": 7,
   "metadata": {},
   "outputs": [
    {
     "ename": "NameError",
     "evalue": "name 'independent' is not defined",
     "output_type": "error",
     "traceback": [
      "\u001b[1;31m---------------------------------------------------------------------------\u001b[0m",
      "\u001b[1;31mNameError\u001b[0m                                 Traceback (most recent call last)",
      "Cell \u001b[1;32mIn[7], line 1\u001b[0m\n\u001b[1;32m----> 1\u001b[0m independent\n",
      "\u001b[1;31mNameError\u001b[0m: name 'independent' is not defined"
     ]
    }
   ],
   "source": [
    "independent"
   ]
  },
  {
   "cell_type": "code",
   "execution_count": null,
   "metadata": {},
   "outputs": [],
   "source": []
  },
  {
   "cell_type": "code",
   "execution_count": 7,
   "metadata": {},
   "outputs": [
    {
     "ename": "NameError",
     "evalue": "name 'dependent' is not defined",
     "output_type": "error",
     "traceback": [
      "\u001b[1;31m---------------------------------------------------------------------------\u001b[0m",
      "\u001b[1;31mNameError\u001b[0m                                 Traceback (most recent call last)",
      "Cell \u001b[1;32mIn[7], line 1\u001b[0m\n\u001b[1;32m----> 1\u001b[0m \u001b[39mlen\u001b[39m(dependent)\n",
      "\u001b[1;31mNameError\u001b[0m: name 'dependent' is not defined"
     ]
    }
   ],
   "source": [
    "len(dependent)"
   ]
  },
  {
   "cell_type": "markdown",
   "metadata": {},
   "source": [
    "# MATCHING TASK"
   ]
  },
  {
   "cell_type": "code",
   "execution_count": 3,
   "metadata": {},
   "outputs": [],
   "source": [
    "dependent = pd.read_csv('data/data.csv')"
   ]
  },
  {
   "cell_type": "code",
   "execution_count": 10,
   "metadata": {},
   "outputs": [],
   "source": [
    "dependent['Presence'] = 1\n",
    "dependent = dependent.drop('Unnamed: 0', axis=1)"
   ]
  },
  {
   "cell_type": "code",
   "execution_count": 11,
   "metadata": {},
   "outputs": [],
   "source": [
    "\n",
    "for idx, isolated_vector in enumerate(dependent.values):\n",
    "    \n",
    "    independent['distance'] = independent.apply(lambda row: haversine(isolated_vector[1], isolated_vector[0], row['Latitude'], row['Longitude']), axis=1)\n",
    "    \n",
    "    nearest = independent[independent['distance'] == independent['distance'].min()]\n",
    "\n",
    "    dependent.iloc[idx,:] = (float(nearest['Longitude']), float(nearest['Latitude']), isolated_vector[2])\n",
    "\n",
    "    break"
   ]
  },
  {
   "cell_type": "code",
   "execution_count": 12,
   "metadata": {},
   "outputs": [
    {
     "data": {
      "text/html": [
       "<div>\n",
       "<style scoped>\n",
       "    .dataframe tbody tr th:only-of-type {\n",
       "        vertical-align: middle;\n",
       "    }\n",
       "\n",
       "    .dataframe tbody tr th {\n",
       "        vertical-align: top;\n",
       "    }\n",
       "\n",
       "    .dataframe thead th {\n",
       "        text-align: right;\n",
       "    }\n",
       "</style>\n",
       "<table border=\"1\" class=\"dataframe\">\n",
       "  <thead>\n",
       "    <tr style=\"text-align: right;\">\n",
       "      <th></th>\n",
       "      <th>Longitude</th>\n",
       "      <th>Latitude</th>\n",
       "      <th>Presence</th>\n",
       "    </tr>\n",
       "  </thead>\n",
       "  <tbody>\n",
       "    <tr>\n",
       "      <th>0</th>\n",
       "      <td>-46.666667</td>\n",
       "      <td>-10.500000</td>\n",
       "      <td>1</td>\n",
       "    </tr>\n",
       "    <tr>\n",
       "      <th>1</th>\n",
       "      <td>-46.595491</td>\n",
       "      <td>-10.569050</td>\n",
       "      <td>1</td>\n",
       "    </tr>\n",
       "    <tr>\n",
       "      <th>2</th>\n",
       "      <td>-46.594709</td>\n",
       "      <td>-10.514405</td>\n",
       "      <td>1</td>\n",
       "    </tr>\n",
       "    <tr>\n",
       "      <th>3</th>\n",
       "      <td>-46.569772</td>\n",
       "      <td>-10.482991</td>\n",
       "      <td>1</td>\n",
       "    </tr>\n",
       "    <tr>\n",
       "      <th>4</th>\n",
       "      <td>-46.616531</td>\n",
       "      <td>-10.445170</td>\n",
       "      <td>1</td>\n",
       "    </tr>\n",
       "    <tr>\n",
       "      <th>...</th>\n",
       "      <td>...</td>\n",
       "      <td>...</td>\n",
       "      <td>...</td>\n",
       "    </tr>\n",
       "    <tr>\n",
       "      <th>209</th>\n",
       "      <td>-48.947257</td>\n",
       "      <td>-8.752118</td>\n",
       "      <td>1</td>\n",
       "    </tr>\n",
       "    <tr>\n",
       "      <th>210</th>\n",
       "      <td>-48.983617</td>\n",
       "      <td>-8.723262</td>\n",
       "      <td>1</td>\n",
       "    </tr>\n",
       "    <tr>\n",
       "      <th>211</th>\n",
       "      <td>-70.256001</td>\n",
       "      <td>0.213383</td>\n",
       "      <td>1</td>\n",
       "    </tr>\n",
       "    <tr>\n",
       "      <th>212</th>\n",
       "      <td>-37.519376</td>\n",
       "      <td>-10.755561</td>\n",
       "      <td>1</td>\n",
       "    </tr>\n",
       "    <tr>\n",
       "      <th>213</th>\n",
       "      <td>-37.471038</td>\n",
       "      <td>-10.582747</td>\n",
       "      <td>1</td>\n",
       "    </tr>\n",
       "  </tbody>\n",
       "</table>\n",
       "<p>214 rows × 3 columns</p>\n",
       "</div>"
      ],
      "text/plain": [
       "     Longitude   Latitude  Presence\n",
       "0   -46.666667 -10.500000         1\n",
       "1   -46.595491 -10.569050         1\n",
       "2   -46.594709 -10.514405         1\n",
       "3   -46.569772 -10.482991         1\n",
       "4   -46.616531 -10.445170         1\n",
       "..         ...        ...       ...\n",
       "209 -48.947257  -8.752118         1\n",
       "210 -48.983617  -8.723262         1\n",
       "211 -70.256001   0.213383         1\n",
       "212 -37.519376 -10.755561         1\n",
       "213 -37.471038 -10.582747         1\n",
       "\n",
       "[214 rows x 3 columns]"
      ]
     },
     "execution_count": 12,
     "metadata": {},
     "output_type": "execute_result"
    }
   ],
   "source": [
    "dependent"
   ]
  },
  {
   "cell_type": "code",
   "execution_count": null,
   "metadata": {},
   "outputs": [],
   "source": [
    "float(nearest['Latitude']), float(nearest['Longitude'])"
   ]
  },
  {
   "cell_type": "code",
   "execution_count": null,
   "metadata": {},
   "outputs": [],
   "source": [
    "df"
   ]
  },
  {
   "cell_type": "code",
   "execution_count": null,
   "metadata": {},
   "outputs": [],
   "source": [
    "import pandas as pd\n",
    "import numpy as np\n",
    "\n",
    "# Create a DataFrame from your dataset\n",
    "data = {\n",
    "    'latitude': [40.7128, 34.0522, 51.5074],  # Example latitudes\n",
    "    'longitude': [-74.0060, -118.2437, -0.1278],  # Example longitudes\n",
    "    # Add more latitude and longitude data here\n",
    "}\n",
    "\n",
    "df = pd.DataFrame(data)\n",
    "\n",
    "# Define the isolated vector\n",
    "isolated_vector = (37.7749, -122.4194)  # San Francisco\n",
    "\n",
    "# Calculate distances using Haversine formula and add a new column to the DataFrame\n",
    "df['distance'] = df.apply(lambda row: haversine(isolated_vector[0], isolated_vector[1], row['latitude'], row['longitude']), axis=1)\n",
    "\n",
    "# Find the nearest vector\n",
    "nearest_row = df[df['distance'] == df['distance'].min()]\n",
    "\n",
    "# Print the nearest vector and distance\n",
    "print(\"Nearest vector:\")\n",
    "print(nearest_row)\n",
    "\n",
    "print(\"Distance:\", nearest_row['distance'].values[0], \"km\")"
   ]
  },
  {
   "cell_type": "code",
   "execution_count": 11,
   "metadata": {},
   "outputs": [
    {
     "data": {
      "text/html": [
       "<div>\n",
       "<style scoped>\n",
       "    .dataframe tbody tr th:only-of-type {\n",
       "        vertical-align: middle;\n",
       "    }\n",
       "\n",
       "    .dataframe tbody tr th {\n",
       "        vertical-align: top;\n",
       "    }\n",
       "\n",
       "    .dataframe thead th {\n",
       "        text-align: right;\n",
       "    }\n",
       "</style>\n",
       "<table border=\"1\" class=\"dataframe\">\n",
       "  <thead>\n",
       "    <tr style=\"text-align: right;\">\n",
       "      <th></th>\n",
       "      <th>mean</th>\n",
       "    </tr>\n",
       "  </thead>\n",
       "  <tbody>\n",
       "  </tbody>\n",
       "</table>\n",
       "</div>"
      ],
      "text/plain": [
       "Empty DataFrame\n",
       "Columns: [mean]\n",
       "Index: []"
      ]
     },
     "execution_count": 11,
     "metadata": {},
     "output_type": "execute_result"
    }
   ],
   "source": [
    "import copy \n",
    "dep_copy = copy.deepcopy(dependent)\n",
    "\n",
    "##Variables analysis    (presence, independent)\n",
    "\n",
    "analysis = dependent.describe().loc[['mean'], ].iloc[:, 2:-1].T.reset_index(drop=True)\n",
    "\n"
   ]
  },
  {
   "cell_type": "code",
   "execution_count": null,
   "metadata": {},
   "outputs": [],
   "source": [
    "import numpy as np\n",
    "\n",
    "def haversine(lat1, lon1, lat2, lon2):\n",
    "    \"\"\"\n",
    "    Calculate the great-circle distance between two points \n",
    "    on the Earth's surface using the Haversine formula.\n",
    "    \"\"\"\n",
    "    R = 6371.0  # Earth radius in kilometers\n",
    "\n",
    "    lat1_rad = np.radians(lat1)\n",
    "    lon1_rad = np.radians(lon1)\n",
    "    lat2_rad = np.radians(lat2)\n",
    "    lon2_rad = np.radians(lon2)\n",
    "\n",
    "    dlat = lat2_rad - lat1_rad\n",
    "    dlon = lon2_rad - lon1_rad\n",
    "\n",
    "    a = np.sin(dlat / 2.0) ** 2 + np.cos(lat1_rad) * np.cos(lat2_rad) * np.sin(dlon / 2.0) ** 2\n",
    "    c = 2 * np.arctan2(np.sqrt(a), np.sqrt(1 - a))\n",
    "\n",
    "    distance = R * c\n",
    "    return distance\n",
    "\n",
    "def find_nearest_vector(dataset, isolated_vector):\n",
    "    min_distance = float('inf')\n",
    "    nearest_vector = None\n",
    "\n",
    "    for vector in dataset:\n",
    "        distance = haversine(isolated_vector[0], isolated_vector[1], vector[0], vector[1])\n",
    "        if distance < min_distance:\n",
    "            min_distance = distance\n",
    "            nearest_vector = vector\n",
    "\n",
    "    return nearest_vector, min_distance\n",
    "\n",
    "# Example usage\n",
    "dataset = [\n",
    "    (40.7128, -74.0060),  # New York City\n",
    "    (34.0522, -118.2437),  # Los Angeles\n",
    "    (51.5074, -0.1278),    # London\n",
    "]\n",
    "\n",
    "isolated_vector = (37.7749, -122.4194)  # San Francisco\n",
    "\n",
    "nearest_vector, distance = find_nearest_vector(dataset, isolated_vector)\n",
    "\n",
    "print(\"Nearest vector:\", nearest_vector)\n",
    "print(\"Distance:\", distance, \"km\")"
   ]
  },
  {
   "cell_type": "code",
   "execution_count": 4,
   "metadata": {},
   "outputs": [
    {
     "data": {
      "text/plain": [
       "1.0"
      ]
     },
     "execution_count": 4,
     "metadata": {},
     "output_type": "execute_result"
    }
   ],
   "source": [
    "np.linalg.norm(2-3)"
   ]
  },
  {
   "cell_type": "code",
   "execution_count": null,
   "metadata": {},
   "outputs": [],
   "source": [
    "import pandas as pd\n",
    "data = {(1,2),(3,4)}\n",
    "pd.DataFrame(data)"
   ]
  },
  {
   "cell_type": "markdown",
   "metadata": {},
   "source": [
    "# VARIABLE TASK"
   ]
  },
  {
   "cell_type": "code",
   "execution_count": 2,
   "metadata": {},
   "outputs": [],
   "source": [
    "#DEPENDENCIES\n",
    "url = URLs.url600s\n",
    "bounding_box = boxes.South_America\n",
    "down_boundary = 70\n",
    "up_boundary = 100"
   ]
  },
  {
   "cell_type": "code",
   "execution_count": 3,
   "metadata": {},
   "outputs": [
    {
     "name": "stdout",
     "output_type": "stream",
     "text": [
      "Select the dataset: \n",
      "\n",
      "1. data\\data.csv\n",
      "\n",
      "2. data\\data_2.csv\n",
      "\n"
     ]
    },
    {
     "name": "stderr",
     "output_type": "stream",
     "text": [
      "Analyzing locations...: 100%|██████████| 15/15 [00:11<00:00,  1.34it/s]\n"
     ]
    },
    {
     "name": "stdout",
     "output_type": "stream",
     "text": [
      "1. Generating pseudo-absence points:\n",
      "\n",
      "1.1. Min-Max radius analysis\n"
     ]
    },
    {
     "name": "stderr",
     "output_type": "stream",
     "text": [
      "Generating Min-Max radius area ...: 100%|██████████| 15/15 [04:28<00:00, 17.90s/it]\n"
     ]
    },
    {
     "name": "stdout",
     "output_type": "stream",
     "text": [
      "Done!\n",
      "1.2. Bioclim variable analysis ...\n"
     ]
    },
    {
     "name": "stderr",
     "output_type": "stream",
     "text": [
      "Statistical analysis ...: 100%|██████████| 6/6 [00:00<00:00, 214.31it/s]"
     ]
    },
    {
     "name": "stdout",
     "output_type": "stream",
     "text": [
      "Done!\n",
      "1.3. Picking random pseudo-absence points\n",
      "Done\n"
     ]
    },
    {
     "name": "stderr",
     "output_type": "stream",
     "text": [
      "\n"
     ]
    }
   ],
   "source": [
    "folder = from_url_tif(url)\n",
    "independent = tif_to_dataframe(folder, bounding_box)\n",
    "path = create_path()\n",
    "dependent = import_targets(path)\n",
    "presence, dependent = get_presence_dependent(independent, dependent) \n",
    "dataframe = absence_generator(presence, dependent, independent, down_boundary, up_boundary)"
   ]
  },
  {
   "cell_type": "code",
   "execution_count": 5,
   "metadata": {},
   "outputs": [
    {
     "data": {
      "text/plain": [
       "Index(['Longitude', 'Latitude', 'bio1', 'bio10', 'bio11', 'bio12', 'bio13',\n",
       "       'bio14', 'bio15', 'bio16', 'bio17', 'bio18', 'bio19', 'bio2', 'bio3',\n",
       "       'bio4', 'bio5', 'bio6', 'bio7', 'bio8', 'bio9', 'Presence', 'Longitude',\n",
       "       'Latitude', 'bio1', 'bio10', 'bio11', 'bio12', 'bio13', 'bio14',\n",
       "       'bio15', 'bio16', 'bio17', 'bio18', 'bio19', 'bio2', 'bio3', 'bio4',\n",
       "       'bio5', 'bio6', 'bio7', 'bio8', 'bio9', 'Presence'],\n",
       "      dtype='object')"
      ]
     },
     "execution_count": 5,
     "metadata": {},
     "output_type": "execute_result"
    }
   ],
   "source": [
    "dataframe.columns"
   ]
  },
  {
   "cell_type": "code",
   "execution_count": 33,
   "metadata": {},
   "outputs": [
    {
     "name": "stdout",
     "output_type": "stream",
     "text": [
      "1.2. Bioclim variable analysis ...\n"
     ]
    },
    {
     "name": "stderr",
     "output_type": "stream",
     "text": [
      "Statistical analysis ...: 100%|██████████| 6/6 [00:00<00:00, 461.66it/s]"
     ]
    },
    {
     "name": "stdout",
     "output_type": "stream",
     "text": [
      "Done!\n"
     ]
    },
    {
     "name": "stderr",
     "output_type": "stream",
     "text": [
      "\n"
     ]
    }
   ],
   "source": [
    "import copy\n",
    "\n",
    "filtered_dataframe = copy.deepcopy(complement_df)\n",
    "\n",
    "\n",
    "print('1.2. Bioclim variable analysis ...')\n",
    "##Variables analysis    (presence, independent)\n",
    "\n",
    "main_bio = ['bio1', 'bio3', 'bio5', 'bio6', 'bio7', 'bio12'] ##You can try changing these values, or use all variables\n",
    "\n",
    "analysis = presence.describe().loc[['mean', 'max'], ].loc[:, main_bio].T.reset_index()\n",
    "\n",
    "\n",
    "filtered_dataframe['distance'] = 0\n",
    "\n",
    "for variable, mean, max_value in tqdm(analysis.values, desc = 'Statistical analysis ...'):\n",
    "    filtered_dataframe['distance'] = filtered_dataframe.apply(lambda row: row['distance'] + float(np.linalg.norm(mean-row[variable]))/max_value, axis = 1)\n",
    "\n",
    "filtered_dataframe['distance'] = filtered_dataframe.apply(lambda row: row['distance']/6, axis = 1)\n",
    "\n",
    "filtered_dataframe = filtered_dataframe.sort_values('distance', ascending = False).head(len(presence))\n",
    "\n",
    "print('Done!')\n"
   ]
  },
  {
   "cell_type": "code",
   "execution_count": 34,
   "metadata": {},
   "outputs": [
    {
     "data": {
      "text/html": [
       "<div>\n",
       "<style scoped>\n",
       "    .dataframe tbody tr th:only-of-type {\n",
       "        vertical-align: middle;\n",
       "    }\n",
       "\n",
       "    .dataframe tbody tr th {\n",
       "        vertical-align: top;\n",
       "    }\n",
       "\n",
       "    .dataframe thead th {\n",
       "        text-align: right;\n",
       "    }\n",
       "</style>\n",
       "<table border=\"1\" class=\"dataframe\">\n",
       "  <thead>\n",
       "    <tr style=\"text-align: right;\">\n",
       "      <th></th>\n",
       "      <th>index</th>\n",
       "      <th>mean</th>\n",
       "      <th>max</th>\n",
       "    </tr>\n",
       "  </thead>\n",
       "  <tbody>\n",
       "    <tr>\n",
       "      <th>0</th>\n",
       "      <td>bio1</td>\n",
       "      <td>24.308668</td>\n",
       "      <td>26.329626</td>\n",
       "    </tr>\n",
       "    <tr>\n",
       "      <th>1</th>\n",
       "      <td>bio3</td>\n",
       "      <td>69.571686</td>\n",
       "      <td>78.265152</td>\n",
       "    </tr>\n",
       "    <tr>\n",
       "      <th>2</th>\n",
       "      <td>bio5</td>\n",
       "      <td>33.242191</td>\n",
       "      <td>33.891251</td>\n",
       "    </tr>\n",
       "    <tr>\n",
       "      <th>3</th>\n",
       "      <td>bio6</td>\n",
       "      <td>14.993390</td>\n",
       "      <td>21.440331</td>\n",
       "    </tr>\n",
       "    <tr>\n",
       "      <th>4</th>\n",
       "      <td>bio7</td>\n",
       "      <td>18.248802</td>\n",
       "      <td>20.230751</td>\n",
       "    </tr>\n",
       "    <tr>\n",
       "      <th>5</th>\n",
       "      <td>bio12</td>\n",
       "      <td>1291.066650</td>\n",
       "      <td>1436.000000</td>\n",
       "    </tr>\n",
       "  </tbody>\n",
       "</table>\n",
       "</div>"
      ],
      "text/plain": [
       "   index         mean          max\n",
       "0   bio1    24.308668    26.329626\n",
       "1   bio3    69.571686    78.265152\n",
       "2   bio5    33.242191    33.891251\n",
       "3   bio6    14.993390    21.440331\n",
       "4   bio7    18.248802    20.230751\n",
       "5  bio12  1291.066650  1436.000000"
      ]
     },
     "execution_count": 34,
     "metadata": {},
     "output_type": "execute_result"
    }
   ],
   "source": [
    "analysis"
   ]
  },
  {
   "cell_type": "code",
   "execution_count": 35,
   "metadata": {},
   "outputs": [
    {
     "data": {
      "text/html": [
       "<div>\n",
       "<style scoped>\n",
       "    .dataframe tbody tr th:only-of-type {\n",
       "        vertical-align: middle;\n",
       "    }\n",
       "\n",
       "    .dataframe tbody tr th {\n",
       "        vertical-align: top;\n",
       "    }\n",
       "\n",
       "    .dataframe thead th {\n",
       "        text-align: right;\n",
       "    }\n",
       "</style>\n",
       "<table border=\"1\" class=\"dataframe\">\n",
       "  <thead>\n",
       "    <tr style=\"text-align: right;\">\n",
       "      <th></th>\n",
       "      <th>Longitude</th>\n",
       "      <th>Latitude</th>\n",
       "      <th>bio1</th>\n",
       "      <th>bio10</th>\n",
       "      <th>bio11</th>\n",
       "      <th>bio12</th>\n",
       "      <th>bio13</th>\n",
       "      <th>bio14</th>\n",
       "      <th>bio15</th>\n",
       "      <th>bio16</th>\n",
       "      <th>...</th>\n",
       "      <th>bio19</th>\n",
       "      <th>bio2</th>\n",
       "      <th>bio3</th>\n",
       "      <th>bio4</th>\n",
       "      <th>bio5</th>\n",
       "      <th>bio6</th>\n",
       "      <th>bio7</th>\n",
       "      <th>bio8</th>\n",
       "      <th>bio9</th>\n",
       "      <th>distance</th>\n",
       "    </tr>\n",
       "  </thead>\n",
       "  <tbody>\n",
       "    <tr>\n",
       "      <th>79</th>\n",
       "      <td>-39.166667</td>\n",
       "      <td>-3.833333</td>\n",
       "      <td>26.228344</td>\n",
       "      <td>26.970167</td>\n",
       "      <td>25.470207</td>\n",
       "      <td>813.0</td>\n",
       "      <td>209.0</td>\n",
       "      <td>1.0</td>\n",
       "      <td>112.292633</td>\n",
       "      <td>538.0</td>\n",
       "      <td>...</td>\n",
       "      <td>78.0</td>\n",
       "      <td>8.412063</td>\n",
       "      <td>77.368294</td>\n",
       "      <td>60.748989</td>\n",
       "      <td>31.735250</td>\n",
       "      <td>20.862499</td>\n",
       "      <td>10.872751</td>\n",
       "      <td>25.963291</td>\n",
       "      <td>26.186333</td>\n",
       "      <td>0.198041</td>\n",
       "    </tr>\n",
       "    <tr>\n",
       "      <th>78</th>\n",
       "      <td>-39.333333</td>\n",
       "      <td>-3.833333</td>\n",
       "      <td>26.390020</td>\n",
       "      <td>27.137917</td>\n",
       "      <td>25.644541</td>\n",
       "      <td>806.0</td>\n",
       "      <td>209.0</td>\n",
       "      <td>2.0</td>\n",
       "      <td>112.347702</td>\n",
       "      <td>528.0</td>\n",
       "      <td>...</td>\n",
       "      <td>79.0</td>\n",
       "      <td>8.728624</td>\n",
       "      <td>77.790031</td>\n",
       "      <td>61.058636</td>\n",
       "      <td>32.104248</td>\n",
       "      <td>20.883499</td>\n",
       "      <td>11.220749</td>\n",
       "      <td>26.093416</td>\n",
       "      <td>26.371834</td>\n",
       "      <td>0.196256</td>\n",
       "    </tr>\n",
       "    <tr>\n",
       "      <th>80</th>\n",
       "      <td>-39.333333</td>\n",
       "      <td>-4.000000</td>\n",
       "      <td>26.275126</td>\n",
       "      <td>27.046499</td>\n",
       "      <td>25.504833</td>\n",
       "      <td>763.0</td>\n",
       "      <td>199.0</td>\n",
       "      <td>2.0</td>\n",
       "      <td>111.695709</td>\n",
       "      <td>501.0</td>\n",
       "      <td>...</td>\n",
       "      <td>70.0</td>\n",
       "      <td>8.867084</td>\n",
       "      <td>77.083275</td>\n",
       "      <td>63.109604</td>\n",
       "      <td>32.192001</td>\n",
       "      <td>20.688749</td>\n",
       "      <td>11.503252</td>\n",
       "      <td>26.276291</td>\n",
       "      <td>26.253000</td>\n",
       "      <td>0.194742</td>\n",
       "    </tr>\n",
       "    <tr>\n",
       "      <th>81</th>\n",
       "      <td>-39.166667</td>\n",
       "      <td>-4.000000</td>\n",
       "      <td>26.131416</td>\n",
       "      <td>26.905750</td>\n",
       "      <td>25.348625</td>\n",
       "      <td>791.0</td>\n",
       "      <td>205.0</td>\n",
       "      <td>3.0</td>\n",
       "      <td>111.754913</td>\n",
       "      <td>517.0</td>\n",
       "      <td>...</td>\n",
       "      <td>74.0</td>\n",
       "      <td>8.734917</td>\n",
       "      <td>76.825943</td>\n",
       "      <td>63.238815</td>\n",
       "      <td>31.941999</td>\n",
       "      <td>20.572250</td>\n",
       "      <td>11.369749</td>\n",
       "      <td>25.854500</td>\n",
       "      <td>26.062584</td>\n",
       "      <td>0.191458</td>\n",
       "    </tr>\n",
       "    <tr>\n",
       "      <th>82</th>\n",
       "      <td>-39.333333</td>\n",
       "      <td>-4.166667</td>\n",
       "      <td>26.195208</td>\n",
       "      <td>26.987667</td>\n",
       "      <td>25.412374</td>\n",
       "      <td>731.0</td>\n",
       "      <td>192.0</td>\n",
       "      <td>2.0</td>\n",
       "      <td>110.637039</td>\n",
       "      <td>479.0</td>\n",
       "      <td>...</td>\n",
       "      <td>60.0</td>\n",
       "      <td>9.178542</td>\n",
       "      <td>76.791832</td>\n",
       "      <td>64.593094</td>\n",
       "      <td>32.353748</td>\n",
       "      <td>20.401251</td>\n",
       "      <td>11.952497</td>\n",
       "      <td>26.188042</td>\n",
       "      <td>26.176624</td>\n",
       "      <td>0.190598</td>\n",
       "    </tr>\n",
       "    <tr>\n",
       "      <th>77</th>\n",
       "      <td>-39.166667</td>\n",
       "      <td>-3.666667</td>\n",
       "      <td>26.340708</td>\n",
       "      <td>27.071625</td>\n",
       "      <td>25.589958</td>\n",
       "      <td>928.0</td>\n",
       "      <td>242.0</td>\n",
       "      <td>1.0</td>\n",
       "      <td>112.997025</td>\n",
       "      <td>622.0</td>\n",
       "      <td>...</td>\n",
       "      <td>87.0</td>\n",
       "      <td>8.299251</td>\n",
       "      <td>78.046326</td>\n",
       "      <td>60.123795</td>\n",
       "      <td>31.681499</td>\n",
       "      <td>21.047750</td>\n",
       "      <td>10.633749</td>\n",
       "      <td>26.074207</td>\n",
       "      <td>26.728251</td>\n",
       "      <td>0.190522</td>\n",
       "    </tr>\n",
       "    <tr>\n",
       "      <th>76</th>\n",
       "      <td>-39.333333</td>\n",
       "      <td>-3.666667</td>\n",
       "      <td>26.479177</td>\n",
       "      <td>27.196959</td>\n",
       "      <td>25.750916</td>\n",
       "      <td>913.0</td>\n",
       "      <td>243.0</td>\n",
       "      <td>2.0</td>\n",
       "      <td>114.970726</td>\n",
       "      <td>609.0</td>\n",
       "      <td>...</td>\n",
       "      <td>84.0</td>\n",
       "      <td>8.629271</td>\n",
       "      <td>78.488930</td>\n",
       "      <td>58.735516</td>\n",
       "      <td>32.001751</td>\n",
       "      <td>21.007500</td>\n",
       "      <td>10.994251</td>\n",
       "      <td>26.208458</td>\n",
       "      <td>26.854542</td>\n",
       "      <td>0.189224</td>\n",
       "    </tr>\n",
       "    <tr>\n",
       "      <th>92</th>\n",
       "      <td>-38.333333</td>\n",
       "      <td>-4.500000</td>\n",
       "      <td>26.569822</td>\n",
       "      <td>27.291458</td>\n",
       "      <td>25.845875</td>\n",
       "      <td>842.0</td>\n",
       "      <td>213.0</td>\n",
       "      <td>3.0</td>\n",
       "      <td>105.335876</td>\n",
       "      <td>530.0</td>\n",
       "      <td>...</td>\n",
       "      <td>99.0</td>\n",
       "      <td>9.340396</td>\n",
       "      <td>79.302071</td>\n",
       "      <td>57.655811</td>\n",
       "      <td>32.399250</td>\n",
       "      <td>20.621000</td>\n",
       "      <td>11.778250</td>\n",
       "      <td>26.344334</td>\n",
       "      <td>26.964167</td>\n",
       "      <td>0.188352</td>\n",
       "    </tr>\n",
       "    <tr>\n",
       "      <th>91</th>\n",
       "      <td>-38.500000</td>\n",
       "      <td>-4.500000</td>\n",
       "      <td>26.743126</td>\n",
       "      <td>27.474543</td>\n",
       "      <td>26.013334</td>\n",
       "      <td>836.0</td>\n",
       "      <td>214.0</td>\n",
       "      <td>3.0</td>\n",
       "      <td>105.948097</td>\n",
       "      <td>525.0</td>\n",
       "      <td>...</td>\n",
       "      <td>90.0</td>\n",
       "      <td>9.473042</td>\n",
       "      <td>79.085358</td>\n",
       "      <td>58.677620</td>\n",
       "      <td>32.719501</td>\n",
       "      <td>20.741251</td>\n",
       "      <td>11.978251</td>\n",
       "      <td>26.495125</td>\n",
       "      <td>27.127459</td>\n",
       "      <td>0.187396</td>\n",
       "    </tr>\n",
       "    <tr>\n",
       "      <th>96</th>\n",
       "      <td>-38.666667</td>\n",
       "      <td>-4.666667</td>\n",
       "      <td>26.739979</td>\n",
       "      <td>27.451208</td>\n",
       "      <td>26.022751</td>\n",
       "      <td>825.0</td>\n",
       "      <td>212.0</td>\n",
       "      <td>3.0</td>\n",
       "      <td>106.383629</td>\n",
       "      <td>517.0</td>\n",
       "      <td>...</td>\n",
       "      <td>197.0</td>\n",
       "      <td>9.657291</td>\n",
       "      <td>79.394035</td>\n",
       "      <td>57.602001</td>\n",
       "      <td>32.921249</td>\n",
       "      <td>20.757500</td>\n",
       "      <td>12.163750</td>\n",
       "      <td>26.436417</td>\n",
       "      <td>27.164042</td>\n",
       "      <td>0.186916</td>\n",
       "    </tr>\n",
       "    <tr>\n",
       "      <th>98</th>\n",
       "      <td>-38.333333</td>\n",
       "      <td>-4.666667</td>\n",
       "      <td>26.825729</td>\n",
       "      <td>27.559792</td>\n",
       "      <td>26.094500</td>\n",
       "      <td>823.0</td>\n",
       "      <td>209.0</td>\n",
       "      <td>2.0</td>\n",
       "      <td>104.748909</td>\n",
       "      <td>510.0</td>\n",
       "      <td>...</td>\n",
       "      <td>206.0</td>\n",
       "      <td>9.657207</td>\n",
       "      <td>79.206139</td>\n",
       "      <td>58.922760</td>\n",
       "      <td>32.927250</td>\n",
       "      <td>20.734751</td>\n",
       "      <td>12.192499</td>\n",
       "      <td>26.561666</td>\n",
       "      <td>27.278458</td>\n",
       "      <td>0.186848</td>\n",
       "    </tr>\n",
       "    <tr>\n",
       "      <th>95</th>\n",
       "      <td>-38.833333</td>\n",
       "      <td>-4.666667</td>\n",
       "      <td>26.705376</td>\n",
       "      <td>27.399582</td>\n",
       "      <td>26.004999</td>\n",
       "      <td>837.0</td>\n",
       "      <td>213.0</td>\n",
       "      <td>3.0</td>\n",
       "      <td>104.393982</td>\n",
       "      <td>520.0</td>\n",
       "      <td>...</td>\n",
       "      <td>207.0</td>\n",
       "      <td>9.601749</td>\n",
       "      <td>79.358231</td>\n",
       "      <td>56.482048</td>\n",
       "      <td>32.895748</td>\n",
       "      <td>20.796499</td>\n",
       "      <td>12.099249</td>\n",
       "      <td>26.381792</td>\n",
       "      <td>27.125957</td>\n",
       "      <td>0.186188</td>\n",
       "    </tr>\n",
       "    <tr>\n",
       "      <th>93</th>\n",
       "      <td>-38.166667</td>\n",
       "      <td>-4.500000</td>\n",
       "      <td>26.740677</td>\n",
       "      <td>27.465042</td>\n",
       "      <td>26.026417</td>\n",
       "      <td>881.0</td>\n",
       "      <td>223.0</td>\n",
       "      <td>3.0</td>\n",
       "      <td>106.969246</td>\n",
       "      <td>563.0</td>\n",
       "      <td>...</td>\n",
       "      <td>225.0</td>\n",
       "      <td>9.485271</td>\n",
       "      <td>79.970261</td>\n",
       "      <td>57.550228</td>\n",
       "      <td>32.581749</td>\n",
       "      <td>20.720751</td>\n",
       "      <td>11.860998</td>\n",
       "      <td>26.527792</td>\n",
       "      <td>27.182959</td>\n",
       "      <td>0.185526</td>\n",
       "    </tr>\n",
       "    <tr>\n",
       "      <th>97</th>\n",
       "      <td>-38.500000</td>\n",
       "      <td>-4.666667</td>\n",
       "      <td>26.642166</td>\n",
       "      <td>27.368416</td>\n",
       "      <td>25.915667</td>\n",
       "      <td>826.0</td>\n",
       "      <td>212.0</td>\n",
       "      <td>3.0</td>\n",
       "      <td>105.747932</td>\n",
       "      <td>514.0</td>\n",
       "      <td>...</td>\n",
       "      <td>197.0</td>\n",
       "      <td>9.683250</td>\n",
       "      <td>79.331894</td>\n",
       "      <td>58.308578</td>\n",
       "      <td>32.794250</td>\n",
       "      <td>20.588251</td>\n",
       "      <td>12.205999</td>\n",
       "      <td>26.606709</td>\n",
       "      <td>27.066668</td>\n",
       "      <td>0.185010</td>\n",
       "    </tr>\n",
       "    <tr>\n",
       "      <th>99</th>\n",
       "      <td>-38.166667</td>\n",
       "      <td>-4.666667</td>\n",
       "      <td>27.008230</td>\n",
       "      <td>27.783209</td>\n",
       "      <td>26.248625</td>\n",
       "      <td>841.0</td>\n",
       "      <td>217.0</td>\n",
       "      <td>2.0</td>\n",
       "      <td>107.377625</td>\n",
       "      <td>534.0</td>\n",
       "      <td>...</td>\n",
       "      <td>212.0</td>\n",
       "      <td>9.782333</td>\n",
       "      <td>79.113098</td>\n",
       "      <td>61.484245</td>\n",
       "      <td>33.179749</td>\n",
       "      <td>20.814751</td>\n",
       "      <td>12.364998</td>\n",
       "      <td>26.725750</td>\n",
       "      <td>27.526709</td>\n",
       "      <td>0.183675</td>\n",
       "    </tr>\n",
       "  </tbody>\n",
       "</table>\n",
       "<p>15 rows × 22 columns</p>\n",
       "</div>"
      ],
      "text/plain": [
       "    Longitude  Latitude       bio1      bio10      bio11  bio12  bio13  bio14  \\\n",
       "79 -39.166667 -3.833333  26.228344  26.970167  25.470207  813.0  209.0    1.0   \n",
       "78 -39.333333 -3.833333  26.390020  27.137917  25.644541  806.0  209.0    2.0   \n",
       "80 -39.333333 -4.000000  26.275126  27.046499  25.504833  763.0  199.0    2.0   \n",
       "81 -39.166667 -4.000000  26.131416  26.905750  25.348625  791.0  205.0    3.0   \n",
       "82 -39.333333 -4.166667  26.195208  26.987667  25.412374  731.0  192.0    2.0   \n",
       "77 -39.166667 -3.666667  26.340708  27.071625  25.589958  928.0  242.0    1.0   \n",
       "76 -39.333333 -3.666667  26.479177  27.196959  25.750916  913.0  243.0    2.0   \n",
       "92 -38.333333 -4.500000  26.569822  27.291458  25.845875  842.0  213.0    3.0   \n",
       "91 -38.500000 -4.500000  26.743126  27.474543  26.013334  836.0  214.0    3.0   \n",
       "96 -38.666667 -4.666667  26.739979  27.451208  26.022751  825.0  212.0    3.0   \n",
       "98 -38.333333 -4.666667  26.825729  27.559792  26.094500  823.0  209.0    2.0   \n",
       "95 -38.833333 -4.666667  26.705376  27.399582  26.004999  837.0  213.0    3.0   \n",
       "93 -38.166667 -4.500000  26.740677  27.465042  26.026417  881.0  223.0    3.0   \n",
       "97 -38.500000 -4.666667  26.642166  27.368416  25.915667  826.0  212.0    3.0   \n",
       "99 -38.166667 -4.666667  27.008230  27.783209  26.248625  841.0  217.0    2.0   \n",
       "\n",
       "         bio15  bio16  ...  bio19      bio2       bio3       bio4       bio5  \\\n",
       "79  112.292633  538.0  ...   78.0  8.412063  77.368294  60.748989  31.735250   \n",
       "78  112.347702  528.0  ...   79.0  8.728624  77.790031  61.058636  32.104248   \n",
       "80  111.695709  501.0  ...   70.0  8.867084  77.083275  63.109604  32.192001   \n",
       "81  111.754913  517.0  ...   74.0  8.734917  76.825943  63.238815  31.941999   \n",
       "82  110.637039  479.0  ...   60.0  9.178542  76.791832  64.593094  32.353748   \n",
       "77  112.997025  622.0  ...   87.0  8.299251  78.046326  60.123795  31.681499   \n",
       "76  114.970726  609.0  ...   84.0  8.629271  78.488930  58.735516  32.001751   \n",
       "92  105.335876  530.0  ...   99.0  9.340396  79.302071  57.655811  32.399250   \n",
       "91  105.948097  525.0  ...   90.0  9.473042  79.085358  58.677620  32.719501   \n",
       "96  106.383629  517.0  ...  197.0  9.657291  79.394035  57.602001  32.921249   \n",
       "98  104.748909  510.0  ...  206.0  9.657207  79.206139  58.922760  32.927250   \n",
       "95  104.393982  520.0  ...  207.0  9.601749  79.358231  56.482048  32.895748   \n",
       "93  106.969246  563.0  ...  225.0  9.485271  79.970261  57.550228  32.581749   \n",
       "97  105.747932  514.0  ...  197.0  9.683250  79.331894  58.308578  32.794250   \n",
       "99  107.377625  534.0  ...  212.0  9.782333  79.113098  61.484245  33.179749   \n",
       "\n",
       "         bio6       bio7       bio8       bio9  distance  \n",
       "79  20.862499  10.872751  25.963291  26.186333  0.198041  \n",
       "78  20.883499  11.220749  26.093416  26.371834  0.196256  \n",
       "80  20.688749  11.503252  26.276291  26.253000  0.194742  \n",
       "81  20.572250  11.369749  25.854500  26.062584  0.191458  \n",
       "82  20.401251  11.952497  26.188042  26.176624  0.190598  \n",
       "77  21.047750  10.633749  26.074207  26.728251  0.190522  \n",
       "76  21.007500  10.994251  26.208458  26.854542  0.189224  \n",
       "92  20.621000  11.778250  26.344334  26.964167  0.188352  \n",
       "91  20.741251  11.978251  26.495125  27.127459  0.187396  \n",
       "96  20.757500  12.163750  26.436417  27.164042  0.186916  \n",
       "98  20.734751  12.192499  26.561666  27.278458  0.186848  \n",
       "95  20.796499  12.099249  26.381792  27.125957  0.186188  \n",
       "93  20.720751  11.860998  26.527792  27.182959  0.185526  \n",
       "97  20.588251  12.205999  26.606709  27.066668  0.185010  \n",
       "99  20.814751  12.364998  26.725750  27.526709  0.183675  \n",
       "\n",
       "[15 rows x 22 columns]"
      ]
     },
     "execution_count": 35,
     "metadata": {},
     "output_type": "execute_result"
    }
   ],
   "source": [
    "filtered_dataframe"
   ]
  },
  {
   "cell_type": "code",
   "execution_count": 36,
   "metadata": {},
   "outputs": [
    {
     "data": {
      "text/plain": [
       "Index(['Longitude', 'Latitude', 'bio1', 'bio10', 'bio11', 'bio12', 'bio13',\n",
       "       'bio14', 'bio15', 'bio16', 'bio17', 'bio18', 'bio19', 'bio2', 'bio3',\n",
       "       'bio4', 'bio5', 'bio6', 'bio7', 'bio8', 'bio9', 'distance', 'Presence'],\n",
       "      dtype='object')"
      ]
     },
     "execution_count": 36,
     "metadata": {},
     "output_type": "execute_result"
    }
   ],
   "source": [
    "dependent.columns"
   ]
  }
 ],
 "metadata": {
  "kernelspec": {
   "display_name": "Python 3",
   "language": "python",
   "name": "python3"
  },
  "language_info": {
   "codemirror_mode": {
    "name": "ipython",
    "version": 3
   },
   "file_extension": ".py",
   "mimetype": "text/x-python",
   "name": "python",
   "nbconvert_exporter": "python",
   "pygments_lexer": "ipython3",
   "version": "3.10.11"
  },
  "orig_nbformat": 4
 },
 "nbformat": 4,
 "nbformat_minor": 2
}
