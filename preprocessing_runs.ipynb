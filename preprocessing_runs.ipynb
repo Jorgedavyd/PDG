{
 "cells": [
  {
   "cell_type": "code",
   "execution_count": 1,
   "metadata": {},
   "outputs": [
    {
     "name": "stderr",
     "output_type": "stream",
     "text": [
      "C:\\Users\\jorge\\AppData\\Local\\Packages\\PythonSoftwareFoundation.Python.3.10_qbz5n2kfra8p0\\LocalCache\\local-packages\\Python310\\site-packages\\libpysal\\cg\\alpha_shapes.py:39: NumbaDeprecationWarning: \u001b[1mThe 'nopython' keyword argument was not supplied to the 'numba.jit' decorator. The implicit default value for this argument is currently False, but it will be changed to True in Numba 0.59.0. See https://numba.readthedocs.io/en/stable/reference/deprecation.html#deprecation-of-object-mode-fall-back-behaviour-when-using-jit for details.\u001b[0m\n",
      "  def nb_dist(x, y):\n",
      "C:\\Users\\jorge\\AppData\\Local\\Packages\\PythonSoftwareFoundation.Python.3.10_qbz5n2kfra8p0\\LocalCache\\local-packages\\Python310\\site-packages\\libpysal\\cg\\alpha_shapes.py:165: NumbaDeprecationWarning: \u001b[1mThe 'nopython' keyword argument was not supplied to the 'numba.jit' decorator. The implicit default value for this argument is currently False, but it will be changed to True in Numba 0.59.0. See https://numba.readthedocs.io/en/stable/reference/deprecation.html#deprecation-of-object-mode-fall-back-behaviour-when-using-jit for details.\u001b[0m\n",
      "  def get_faces(triangle):\n",
      "C:\\Users\\jorge\\AppData\\Local\\Packages\\PythonSoftwareFoundation.Python.3.10_qbz5n2kfra8p0\\LocalCache\\local-packages\\Python310\\site-packages\\libpysal\\cg\\alpha_shapes.py:199: NumbaDeprecationWarning: \u001b[1mThe 'nopython' keyword argument was not supplied to the 'numba.jit' decorator. The implicit default value for this argument is currently False, but it will be changed to True in Numba 0.59.0. See https://numba.readthedocs.io/en/stable/reference/deprecation.html#deprecation-of-object-mode-fall-back-behaviour-when-using-jit for details.\u001b[0m\n",
      "  def build_faces(faces, triangles_is, num_triangles, num_faces_single):\n",
      "C:\\Users\\jorge\\AppData\\Local\\Packages\\PythonSoftwareFoundation.Python.3.10_qbz5n2kfra8p0\\LocalCache\\local-packages\\Python310\\site-packages\\libpysal\\cg\\alpha_shapes.py:261: NumbaDeprecationWarning: \u001b[1mThe 'nopython' keyword argument was not supplied to the 'numba.jit' decorator. The implicit default value for this argument is currently False, but it will be changed to True in Numba 0.59.0. See https://numba.readthedocs.io/en/stable/reference/deprecation.html#deprecation-of-object-mode-fall-back-behaviour-when-using-jit for details.\u001b[0m\n",
      "  def nb_mask_faces(mask, faces):\n"
     ]
    }
   ],
   "source": [
    "from utils.preprocessing import *\n",
    "from utils.pseudo_abscence import *\n",
    "from utils.random_utils import *"
   ]
  },
  {
   "cell_type": "code",
   "execution_count": 2,
   "metadata": {},
   "outputs": [
    {
     "name": "stdout",
     "output_type": "stream",
     "text": [
      "Downloading https://data.biogeo.ucdavis.edu/data/worldclim/v2.1/base/wc2.1_10m_bio.zip to variables/10m\\10m.zip\n"
     ]
    },
    {
     "name": "stderr",
     "output_type": "stream",
     "text": [
      "100%|██████████| 49869449/49869449 [00:20<00:00, 2382277.81it/s] \n"
     ]
    },
    {
     "name": "stdout",
     "output_type": "stream",
     "text": [
      "Select the dataset: \n",
      "\n",
      "1. data\\data.csv\n",
      "\n"
     ]
    },
    {
     "name": "stderr",
     "output_type": "stream",
     "text": [
      "Analyzing locations...:   0%|          | 0/214 [00:00<?, ?it/s]\n"
     ]
    },
    {
     "ename": "ValueError",
     "evalue": "Must have equal len keys and value when setting with an iterable",
     "output_type": "error",
     "traceback": [
      "\u001b[1;31m---------------------------------------------------------------------------\u001b[0m",
      "\u001b[1;31mValueError\u001b[0m                                Traceback (most recent call last)",
      "Cell \u001b[1;32mIn[2], line 1\u001b[0m\n\u001b[1;32m----> 1\u001b[0m data_preprocess(URLs\u001b[39m.\u001b[39;49murl600s, \u001b[39m75\u001b[39;49m, \u001b[39m200\u001b[39;49m, boxes\u001b[39m.\u001b[39;49mSouth_America)\n",
      "File \u001b[1;32mc:\\Users\\jorge\\Desktop\\PDG\\utils\\preprocessing.py:215\u001b[0m, in \u001b[0;36mdata_preprocess\u001b[1;34m(url, down_boundary, up_boundary, bounding_box)\u001b[0m\n\u001b[0;32m    213\u001b[0m path \u001b[39m=\u001b[39m create_path()\n\u001b[0;32m    214\u001b[0m dependent \u001b[39m=\u001b[39m import_targets(path)\n\u001b[1;32m--> 215\u001b[0m presence, dependent \u001b[39m=\u001b[39m get_presence_dependent(independent, dependent) \n\u001b[0;32m    216\u001b[0m dataframe \u001b[39m=\u001b[39m absence_generator(presence, dependent, independent, down_boundary, up_boundary)\n\u001b[0;32m    217\u001b[0m dataset_torch \u001b[39m=\u001b[39m dataframe_to_torch(dataframe, dataframe\u001b[39m.\u001b[39mcolumns\u001b[39m.\u001b[39mvalues[:\u001b[39m-\u001b[39m\u001b[39m1\u001b[39m], dataframe\u001b[39m.\u001b[39mcolumns\u001b[39m.\u001b[39mvalues[\u001b[39m-\u001b[39m\u001b[39m1\u001b[39m])\n",
      "File \u001b[1;32mc:\\Users\\jorge\\Desktop\\PDG\\utils\\preprocessing.py:85\u001b[0m, in \u001b[0;36mget_presence_dependent\u001b[1;34m(independent, dependent)\u001b[0m\n\u001b[0;32m     83\u001b[0m \u001b[39mdef\u001b[39;00m \u001b[39mget_presence_dependent\u001b[39m(independent, dependent):\n\u001b[1;32m---> 85\u001b[0m     data \u001b[39m=\u001b[39m match_variables(independent,dependent)\n\u001b[0;32m     87\u001b[0m     presence \u001b[39m=\u001b[39m data\u001b[39m.\u001b[39mloc[data\u001b[39m.\u001b[39miloc[:, \u001b[39m-\u001b[39m\u001b[39m1\u001b[39m] \u001b[39m==\u001b[39m \u001b[39m1\u001b[39m, :]\n\u001b[0;32m     89\u001b[0m     \u001b[39mreturn\u001b[39;00m presence, data\n",
      "File \u001b[1;32mc:\\Users\\jorge\\Desktop\\PDG\\utils\\preprocessing.py:164\u001b[0m, in \u001b[0;36mmatch_variables\u001b[1;34m(independent, dependent)\u001b[0m\n\u001b[0;32m    160\u001b[0m     independent[\u001b[39m'\u001b[39m\u001b[39mdistance\u001b[39m\u001b[39m'\u001b[39m] \u001b[39m=\u001b[39m independent\u001b[39m.\u001b[39mapply(\u001b[39mlambda\u001b[39;00m row: haversine(isolated_vector[\u001b[39m1\u001b[39m], isolated_vector[\u001b[39m0\u001b[39m], row[\u001b[39m'\u001b[39m\u001b[39mLatitude\u001b[39m\u001b[39m'\u001b[39m], row[\u001b[39m'\u001b[39m\u001b[39mLongitude\u001b[39m\u001b[39m'\u001b[39m]), axis\u001b[39m=\u001b[39m\u001b[39m1\u001b[39m)\n\u001b[0;32m    162\u001b[0m     nearest \u001b[39m=\u001b[39m independent[independent[\u001b[39m'\u001b[39m\u001b[39mdistance\u001b[39m\u001b[39m'\u001b[39m] \u001b[39m==\u001b[39m independent[\u001b[39m'\u001b[39m\u001b[39mdistance\u001b[39m\u001b[39m'\u001b[39m]\u001b[39m.\u001b[39mmin()]\n\u001b[1;32m--> 164\u001b[0m     dependent\u001b[39m.\u001b[39;49miloc[idx,:] \u001b[39m=\u001b[39m (\u001b[39mfloat\u001b[39m(nearest[\u001b[39m'\u001b[39m\u001b[39mLongitude\u001b[39m\u001b[39m'\u001b[39m]), \u001b[39mfloat\u001b[39m(nearest[\u001b[39m'\u001b[39m\u001b[39mLatitude\u001b[39m\u001b[39m'\u001b[39m]), isolated_vector[\u001b[39m2\u001b[39m])\n\u001b[0;32m    166\u001b[0m \u001b[39m#pd.merge\u001b[39;00m\n\u001b[0;32m    167\u001b[0m dataset \u001b[39m=\u001b[39m pd\u001b[39m.\u001b[39mmerge(independent, dependent, \u001b[39m'\u001b[39m\u001b[39mright\u001b[39m\u001b[39m'\u001b[39m, left_index\u001b[39m=\u001b[39m\u001b[39mFalse\u001b[39;00m, right_index\u001b[39m=\u001b[39m\u001b[39mFalse\u001b[39;00m)\n",
      "File \u001b[1;32m~\\AppData\\Local\\Packages\\PythonSoftwareFoundation.Python.3.10_qbz5n2kfra8p0\\LocalCache\\local-packages\\Python310\\site-packages\\pandas\\core\\indexing.py:818\u001b[0m, in \u001b[0;36m_LocationIndexer.__setitem__\u001b[1;34m(self, key, value)\u001b[0m\n\u001b[0;32m    815\u001b[0m \u001b[39mself\u001b[39m\u001b[39m.\u001b[39m_has_valid_setitem_indexer(key)\n\u001b[0;32m    817\u001b[0m iloc \u001b[39m=\u001b[39m \u001b[39mself\u001b[39m \u001b[39mif\u001b[39;00m \u001b[39mself\u001b[39m\u001b[39m.\u001b[39mname \u001b[39m==\u001b[39m \u001b[39m\"\u001b[39m\u001b[39miloc\u001b[39m\u001b[39m\"\u001b[39m \u001b[39melse\u001b[39;00m \u001b[39mself\u001b[39m\u001b[39m.\u001b[39mobj\u001b[39m.\u001b[39miloc\n\u001b[1;32m--> 818\u001b[0m iloc\u001b[39m.\u001b[39;49m_setitem_with_indexer(indexer, value, \u001b[39mself\u001b[39;49m\u001b[39m.\u001b[39;49mname)\n",
      "File \u001b[1;32m~\\AppData\\Local\\Packages\\PythonSoftwareFoundation.Python.3.10_qbz5n2kfra8p0\\LocalCache\\local-packages\\Python310\\site-packages\\pandas\\core\\indexing.py:1795\u001b[0m, in \u001b[0;36m_iLocIndexer._setitem_with_indexer\u001b[1;34m(self, indexer, value, name)\u001b[0m\n\u001b[0;32m   1792\u001b[0m \u001b[39m# align and set the values\u001b[39;00m\n\u001b[0;32m   1793\u001b[0m \u001b[39mif\u001b[39;00m take_split_path:\n\u001b[0;32m   1794\u001b[0m     \u001b[39m# We have to operate column-wise\u001b[39;00m\n\u001b[1;32m-> 1795\u001b[0m     \u001b[39mself\u001b[39;49m\u001b[39m.\u001b[39;49m_setitem_with_indexer_split_path(indexer, value, name)\n\u001b[0;32m   1796\u001b[0m \u001b[39melse\u001b[39;00m:\n\u001b[0;32m   1797\u001b[0m     \u001b[39mself\u001b[39m\u001b[39m.\u001b[39m_setitem_single_block(indexer, value, name)\n",
      "File \u001b[1;32m~\\AppData\\Local\\Packages\\PythonSoftwareFoundation.Python.3.10_qbz5n2kfra8p0\\LocalCache\\local-packages\\Python310\\site-packages\\pandas\\core\\indexing.py:1879\u001b[0m, in \u001b[0;36m_iLocIndexer._setitem_with_indexer_split_path\u001b[1;34m(self, indexer, value, name)\u001b[0m\n\u001b[0;32m   1876\u001b[0m         \u001b[39mself\u001b[39m\u001b[39m.\u001b[39m_setitem_single_column(ilocs[\u001b[39m0\u001b[39m], value, pi)\n\u001b[0;32m   1878\u001b[0m     \u001b[39melse\u001b[39;00m:\n\u001b[1;32m-> 1879\u001b[0m         \u001b[39mraise\u001b[39;00m \u001b[39mValueError\u001b[39;00m(\n\u001b[0;32m   1880\u001b[0m             \u001b[39m\"\u001b[39m\u001b[39mMust have equal len keys and value \u001b[39m\u001b[39m\"\u001b[39m\n\u001b[0;32m   1881\u001b[0m             \u001b[39m\"\u001b[39m\u001b[39mwhen setting with an iterable\u001b[39m\u001b[39m\"\u001b[39m\n\u001b[0;32m   1882\u001b[0m         )\n\u001b[0;32m   1884\u001b[0m \u001b[39melse\u001b[39;00m:\n\u001b[0;32m   1885\u001b[0m \n\u001b[0;32m   1886\u001b[0m     \u001b[39m# scalar value\u001b[39;00m\n\u001b[0;32m   1887\u001b[0m     \u001b[39mfor\u001b[39;00m loc \u001b[39min\u001b[39;00m ilocs:\n",
      "\u001b[1;31mValueError\u001b[0m: Must have equal len keys and value when setting with an iterable"
     ]
    }
   ],
   "source": [
    "data_preprocess(URLs.url600s, 75, 200, boxes.South_America)"
   ]
  },
  {
   "cell_type": "code",
   "execution_count": 11,
   "metadata": {},
   "outputs": [
    {
     "data": {
      "text/plain": [
       "[]"
      ]
     },
     "execution_count": 11,
     "metadata": {},
     "output_type": "execute_result"
    }
   ],
   "source": [
    "file_list = glob.glob('/data/*.csv}')\n",
    "file_list\n"
   ]
  },
  {
   "cell_type": "code",
   "execution_count": 15,
   "metadata": {},
   "outputs": [],
   "source": [
    "file_list = glob.glob(os.path.join('data/', \"*.csv\")) + glob.glob(os.path.join('data/', \"*.xlsx\"))"
   ]
  },
  {
   "cell_type": "code",
   "execution_count": 16,
   "metadata": {},
   "outputs": [
    {
     "data": {
      "text/plain": [
       "['data\\\\data.csv']"
      ]
     },
     "execution_count": 16,
     "metadata": {},
     "output_type": "execute_result"
    }
   ],
   "source": [
    "file_list"
   ]
  },
  {
   "cell_type": "code",
   "execution_count": 14,
   "metadata": {},
   "outputs": [
    {
     "data": {
      "text/plain": [
       "['data\\\\data.csv']"
      ]
     },
     "execution_count": 14,
     "metadata": {},
     "output_type": "execute_result"
    }
   ],
   "source": [
    "glob.glob('data/*.csv')"
   ]
  },
  {
   "cell_type": "code",
   "execution_count": 17,
   "metadata": {},
   "outputs": [
    {
     "data": {
      "text/plain": [
       "Longitude   -49.153361\n",
       "Latitude    -14.795433\n",
       "Presence      1.000000\n",
       "Name: mean, dtype: float64"
      ]
     },
     "execution_count": 17,
     "metadata": {},
     "output_type": "execute_result"
    }
   ],
   "source": [
    "dependent.describe().T['mean']"
   ]
  },
  {
   "cell_type": "code",
   "execution_count": null,
   "metadata": {},
   "outputs": [],
   "source": [
    "independent = tif_to_dataframe('variables/10m', bounding_box=boxes.South_America)"
   ]
  },
  {
   "cell_type": "code",
   "execution_count": 18,
   "metadata": {},
   "outputs": [
    {
     "data": {
      "text/html": [
       "<div>\n",
       "<style scoped>\n",
       "    .dataframe tbody tr th:only-of-type {\n",
       "        vertical-align: middle;\n",
       "    }\n",
       "\n",
       "    .dataframe tbody tr th {\n",
       "        vertical-align: top;\n",
       "    }\n",
       "\n",
       "    .dataframe thead th {\n",
       "        text-align: right;\n",
       "    }\n",
       "</style>\n",
       "<table border=\"1\" class=\"dataframe\">\n",
       "  <thead>\n",
       "    <tr style=\"text-align: right;\">\n",
       "      <th></th>\n",
       "      <th>Longitude</th>\n",
       "      <th>Latitude</th>\n",
       "      <th>bio1</th>\n",
       "      <th>bio10</th>\n",
       "      <th>bio11</th>\n",
       "      <th>bio12</th>\n",
       "      <th>bio13</th>\n",
       "      <th>bio14</th>\n",
       "      <th>bio15</th>\n",
       "      <th>bio16</th>\n",
       "      <th>...</th>\n",
       "      <th>bio18</th>\n",
       "      <th>bio19</th>\n",
       "      <th>bio2</th>\n",
       "      <th>bio3</th>\n",
       "      <th>bio4</th>\n",
       "      <th>bio5</th>\n",
       "      <th>bio6</th>\n",
       "      <th>bio7</th>\n",
       "      <th>bio8</th>\n",
       "      <th>bio9</th>\n",
       "    </tr>\n",
       "  </thead>\n",
       "  <tbody>\n",
       "    <tr>\n",
       "      <th>0</th>\n",
       "      <td>-72.500000</td>\n",
       "      <td>12.0</td>\n",
       "      <td>28.737499</td>\n",
       "      <td>29.900000</td>\n",
       "      <td>27.683334</td>\n",
       "      <td>430.0</td>\n",
       "      <td>111.0</td>\n",
       "      <td>1.0</td>\n",
       "      <td>100.060379</td>\n",
       "      <td>274.0</td>\n",
       "      <td>...</td>\n",
       "      <td>53.0</td>\n",
       "      <td>29.0</td>\n",
       "      <td>7.858334</td>\n",
       "      <td>74.135223</td>\n",
       "      <td>90.607178</td>\n",
       "      <td>34.200001</td>\n",
       "      <td>23.600000</td>\n",
       "      <td>10.600000</td>\n",
       "      <td>28.783333</td>\n",
       "      <td>27.750000</td>\n",
       "    </tr>\n",
       "    <tr>\n",
       "      <th>1</th>\n",
       "      <td>-72.333333</td>\n",
       "      <td>12.0</td>\n",
       "      <td>29.110685</td>\n",
       "      <td>30.375687</td>\n",
       "      <td>27.985098</td>\n",
       "      <td>454.0</td>\n",
       "      <td>124.0</td>\n",
       "      <td>3.0</td>\n",
       "      <td>96.544411</td>\n",
       "      <td>277.0</td>\n",
       "      <td>...</td>\n",
       "      <td>70.0</td>\n",
       "      <td>31.0</td>\n",
       "      <td>8.633235</td>\n",
       "      <td>74.443329</td>\n",
       "      <td>97.296761</td>\n",
       "      <td>35.108822</td>\n",
       "      <td>23.511765</td>\n",
       "      <td>11.597057</td>\n",
       "      <td>29.066175</td>\n",
       "      <td>28.118628</td>\n",
       "    </tr>\n",
       "    <tr>\n",
       "      <th>2</th>\n",
       "      <td>-72.166667</td>\n",
       "      <td>12.0</td>\n",
       "      <td>29.235428</td>\n",
       "      <td>30.567167</td>\n",
       "      <td>28.038000</td>\n",
       "      <td>479.0</td>\n",
       "      <td>125.0</td>\n",
       "      <td>3.0</td>\n",
       "      <td>90.852798</td>\n",
       "      <td>282.0</td>\n",
       "      <td>...</td>\n",
       "      <td>75.0</td>\n",
       "      <td>37.0</td>\n",
       "      <td>9.058770</td>\n",
       "      <td>74.468925</td>\n",
       "      <td>102.796455</td>\n",
       "      <td>35.485748</td>\n",
       "      <td>23.321251</td>\n",
       "      <td>12.164497</td>\n",
       "      <td>29.146292</td>\n",
       "      <td>28.205000</td>\n",
       "    </tr>\n",
       "    <tr>\n",
       "      <th>3</th>\n",
       "      <td>-72.000000</td>\n",
       "      <td>12.0</td>\n",
       "      <td>28.865593</td>\n",
       "      <td>30.166374</td>\n",
       "      <td>27.623667</td>\n",
       "      <td>493.0</td>\n",
       "      <td>117.0</td>\n",
       "      <td>3.0</td>\n",
       "      <td>80.940987</td>\n",
       "      <td>269.0</td>\n",
       "      <td>...</td>\n",
       "      <td>93.0</td>\n",
       "      <td>33.0</td>\n",
       "      <td>9.022021</td>\n",
       "      <td>74.691788</td>\n",
       "      <td>103.466911</td>\n",
       "      <td>34.981750</td>\n",
       "      <td>22.902750</td>\n",
       "      <td>12.079000</td>\n",
       "      <td>28.866749</td>\n",
       "      <td>27.763416</td>\n",
       "    </tr>\n",
       "    <tr>\n",
       "      <th>4</th>\n",
       "      <td>-71.833333</td>\n",
       "      <td>12.0</td>\n",
       "      <td>28.474209</td>\n",
       "      <td>29.716999</td>\n",
       "      <td>27.196499</td>\n",
       "      <td>502.0</td>\n",
       "      <td>115.0</td>\n",
       "      <td>3.0</td>\n",
       "      <td>79.263947</td>\n",
       "      <td>269.0</td>\n",
       "      <td>...</td>\n",
       "      <td>111.0</td>\n",
       "      <td>30.0</td>\n",
       "      <td>8.932584</td>\n",
       "      <td>75.043221</td>\n",
       "      <td>103.657364</td>\n",
       "      <td>34.448502</td>\n",
       "      <td>22.545250</td>\n",
       "      <td>11.903252</td>\n",
       "      <td>28.605957</td>\n",
       "      <td>27.299541</td>\n",
       "    </tr>\n",
       "    <tr>\n",
       "      <th>...</th>\n",
       "      <td>...</td>\n",
       "      <td>...</td>\n",
       "      <td>...</td>\n",
       "      <td>...</td>\n",
       "      <td>...</td>\n",
       "      <td>...</td>\n",
       "      <td>...</td>\n",
       "      <td>...</td>\n",
       "      <td>...</td>\n",
       "      <td>...</td>\n",
       "      <td>...</td>\n",
       "      <td>...</td>\n",
       "      <td>...</td>\n",
       "      <td>...</td>\n",
       "      <td>...</td>\n",
       "      <td>...</td>\n",
       "      <td>...</td>\n",
       "      <td>...</td>\n",
       "      <td>...</td>\n",
       "      <td>...</td>\n",
       "      <td>...</td>\n",
       "    </tr>\n",
       "    <tr>\n",
       "      <th>57004</th>\n",
       "      <td>-67.000000</td>\n",
       "      <td>-55.0</td>\n",
       "      <td>5.071509</td>\n",
       "      <td>8.437613</td>\n",
       "      <td>1.409685</td>\n",
       "      <td>675.0</td>\n",
       "      <td>75.0</td>\n",
       "      <td>33.0</td>\n",
       "      <td>24.112915</td>\n",
       "      <td>202.0</td>\n",
       "      <td>...</td>\n",
       "      <td>185.0</td>\n",
       "      <td>150.0</td>\n",
       "      <td>5.908333</td>\n",
       "      <td>43.560493</td>\n",
       "      <td>284.866028</td>\n",
       "      <td>12.164189</td>\n",
       "      <td>-1.399324</td>\n",
       "      <td>13.563514</td>\n",
       "      <td>7.789527</td>\n",
       "      <td>3.481869</td>\n",
       "    </tr>\n",
       "    <tr>\n",
       "      <th>57005</th>\n",
       "      <td>-66.833333</td>\n",
       "      <td>-55.0</td>\n",
       "      <td>5.472349</td>\n",
       "      <td>8.848485</td>\n",
       "      <td>1.822727</td>\n",
       "      <td>667.0</td>\n",
       "      <td>71.0</td>\n",
       "      <td>34.0</td>\n",
       "      <td>23.011496</td>\n",
       "      <td>201.0</td>\n",
       "      <td>...</td>\n",
       "      <td>180.0</td>\n",
       "      <td>148.0</td>\n",
       "      <td>5.893182</td>\n",
       "      <td>43.565189</td>\n",
       "      <td>285.291412</td>\n",
       "      <td>12.609091</td>\n",
       "      <td>-0.918182</td>\n",
       "      <td>13.527272</td>\n",
       "      <td>5.727273</td>\n",
       "      <td>3.881818</td>\n",
       "    </tr>\n",
       "    <tr>\n",
       "      <th>57006</th>\n",
       "      <td>-66.666667</td>\n",
       "      <td>-55.0</td>\n",
       "      <td>4.568056</td>\n",
       "      <td>7.923569</td>\n",
       "      <td>0.925084</td>\n",
       "      <td>651.0</td>\n",
       "      <td>71.0</td>\n",
       "      <td>32.0</td>\n",
       "      <td>23.512001</td>\n",
       "      <td>194.0</td>\n",
       "      <td>...</td>\n",
       "      <td>181.0</td>\n",
       "      <td>143.0</td>\n",
       "      <td>5.881397</td>\n",
       "      <td>43.517067</td>\n",
       "      <td>283.551910</td>\n",
       "      <td>11.688889</td>\n",
       "      <td>-1.826263</td>\n",
       "      <td>13.515151</td>\n",
       "      <td>4.847138</td>\n",
       "      <td>2.990741</td>\n",
       "    </tr>\n",
       "    <tr>\n",
       "      <th>57007</th>\n",
       "      <td>-66.500000</td>\n",
       "      <td>-55.0</td>\n",
       "      <td>4.617448</td>\n",
       "      <td>7.952778</td>\n",
       "      <td>1.011979</td>\n",
       "      <td>645.0</td>\n",
       "      <td>69.0</td>\n",
       "      <td>32.0</td>\n",
       "      <td>23.508425</td>\n",
       "      <td>194.0</td>\n",
       "      <td>...</td>\n",
       "      <td>176.0</td>\n",
       "      <td>144.0</td>\n",
       "      <td>5.844271</td>\n",
       "      <td>43.519238</td>\n",
       "      <td>281.102234</td>\n",
       "      <td>11.701041</td>\n",
       "      <td>-1.728125</td>\n",
       "      <td>13.429166</td>\n",
       "      <td>4.892708</td>\n",
       "      <td>3.053819</td>\n",
       "    </tr>\n",
       "    <tr>\n",
       "      <th>57008</th>\n",
       "      <td>-66.333333</td>\n",
       "      <td>-55.0</td>\n",
       "      <td>5.266666</td>\n",
       "      <td>8.599999</td>\n",
       "      <td>1.650000</td>\n",
       "      <td>657.0</td>\n",
       "      <td>74.0</td>\n",
       "      <td>33.0</td>\n",
       "      <td>23.810234</td>\n",
       "      <td>197.0</td>\n",
       "      <td>...</td>\n",
       "      <td>186.0</td>\n",
       "      <td>140.0</td>\n",
       "      <td>5.900000</td>\n",
       "      <td>43.703705</td>\n",
       "      <td>281.419556</td>\n",
       "      <td>12.400000</td>\n",
       "      <td>-1.100000</td>\n",
       "      <td>13.500000</td>\n",
       "      <td>5.550000</td>\n",
       "      <td>3.716666</td>\n",
       "    </tr>\n",
       "  </tbody>\n",
       "</table>\n",
       "<p>57009 rows × 21 columns</p>\n",
       "</div>"
      ],
      "text/plain": [
       "       Longitude  Latitude       bio1      bio10      bio11  bio12  bio13  \\\n",
       "0     -72.500000      12.0  28.737499  29.900000  27.683334  430.0  111.0   \n",
       "1     -72.333333      12.0  29.110685  30.375687  27.985098  454.0  124.0   \n",
       "2     -72.166667      12.0  29.235428  30.567167  28.038000  479.0  125.0   \n",
       "3     -72.000000      12.0  28.865593  30.166374  27.623667  493.0  117.0   \n",
       "4     -71.833333      12.0  28.474209  29.716999  27.196499  502.0  115.0   \n",
       "...          ...       ...        ...        ...        ...    ...    ...   \n",
       "57004 -67.000000     -55.0   5.071509   8.437613   1.409685  675.0   75.0   \n",
       "57005 -66.833333     -55.0   5.472349   8.848485   1.822727  667.0   71.0   \n",
       "57006 -66.666667     -55.0   4.568056   7.923569   0.925084  651.0   71.0   \n",
       "57007 -66.500000     -55.0   4.617448   7.952778   1.011979  645.0   69.0   \n",
       "57008 -66.333333     -55.0   5.266666   8.599999   1.650000  657.0   74.0   \n",
       "\n",
       "       bio14       bio15  bio16  ...  bio18  bio19      bio2       bio3  \\\n",
       "0        1.0  100.060379  274.0  ...   53.0   29.0  7.858334  74.135223   \n",
       "1        3.0   96.544411  277.0  ...   70.0   31.0  8.633235  74.443329   \n",
       "2        3.0   90.852798  282.0  ...   75.0   37.0  9.058770  74.468925   \n",
       "3        3.0   80.940987  269.0  ...   93.0   33.0  9.022021  74.691788   \n",
       "4        3.0   79.263947  269.0  ...  111.0   30.0  8.932584  75.043221   \n",
       "...      ...         ...    ...  ...    ...    ...       ...        ...   \n",
       "57004   33.0   24.112915  202.0  ...  185.0  150.0  5.908333  43.560493   \n",
       "57005   34.0   23.011496  201.0  ...  180.0  148.0  5.893182  43.565189   \n",
       "57006   32.0   23.512001  194.0  ...  181.0  143.0  5.881397  43.517067   \n",
       "57007   32.0   23.508425  194.0  ...  176.0  144.0  5.844271  43.519238   \n",
       "57008   33.0   23.810234  197.0  ...  186.0  140.0  5.900000  43.703705   \n",
       "\n",
       "             bio4       bio5       bio6       bio7       bio8       bio9  \n",
       "0       90.607178  34.200001  23.600000  10.600000  28.783333  27.750000  \n",
       "1       97.296761  35.108822  23.511765  11.597057  29.066175  28.118628  \n",
       "2      102.796455  35.485748  23.321251  12.164497  29.146292  28.205000  \n",
       "3      103.466911  34.981750  22.902750  12.079000  28.866749  27.763416  \n",
       "4      103.657364  34.448502  22.545250  11.903252  28.605957  27.299541  \n",
       "...           ...        ...        ...        ...        ...        ...  \n",
       "57004  284.866028  12.164189  -1.399324  13.563514   7.789527   3.481869  \n",
       "57005  285.291412  12.609091  -0.918182  13.527272   5.727273   3.881818  \n",
       "57006  283.551910  11.688889  -1.826263  13.515151   4.847138   2.990741  \n",
       "57007  281.102234  11.701041  -1.728125  13.429166   4.892708   3.053819  \n",
       "57008  281.419556  12.400000  -1.100000  13.500000   5.550000   3.716666  \n",
       "\n",
       "[57009 rows x 21 columns]"
      ]
     },
     "execution_count": 18,
     "metadata": {},
     "output_type": "execute_result"
    }
   ],
   "source": [
    "independent"
   ]
  },
  {
   "cell_type": "code",
   "execution_count": null,
   "metadata": {},
   "outputs": [],
   "source": [
    "def haversine(lat1, lon1, lat2, lon2):\n",
    "    \"\"\"\n",
    "    Calculate the great-circle distance between two points \n",
    "    on the Earth's surface using the Haversine formula.\n",
    "    \"\"\"\n",
    "    R = 6371.0  # Earth radius in kilometers\n",
    "\n",
    "    lat1_rad = np.radians(lat1)\n",
    "    lon1_rad = np.radians(lon1)\n",
    "    lat2_rad = np.radians(lat2)\n",
    "    lon2_rad = np.radians(lon2)\n",
    "\n",
    "    dlat = lat2_rad - lat1_rad\n",
    "    dlon = lon2_rad - lon1_rad\n",
    "\n",
    "    a = np.sin(dlat / 2.0) ** 2 + np.cos(lat1_rad) * np.cos(lat2_rad) * np.sin(dlon / 2.0) ** 2\n",
    "    c = 2 * np.arctan2(np.sqrt(a), np.sqrt(1 - a))\n",
    "\n",
    "    distance = R * c\n",
    "    return distance\n"
   ]
  },
  {
   "cell_type": "code",
   "execution_count": 7,
   "metadata": {},
   "outputs": [
    {
     "ename": "NameError",
     "evalue": "name 'dependent' is not defined",
     "output_type": "error",
     "traceback": [
      "\u001b[1;31m---------------------------------------------------------------------------\u001b[0m",
      "\u001b[1;31mNameError\u001b[0m                                 Traceback (most recent call last)",
      "Cell \u001b[1;32mIn[7], line 1\u001b[0m\n\u001b[1;32m----> 1\u001b[0m \u001b[39mlen\u001b[39m(dependent)\n",
      "\u001b[1;31mNameError\u001b[0m: name 'dependent' is not defined"
     ]
    }
   ],
   "source": [
    "len(dependent)"
   ]
  },
  {
   "cell_type": "code",
   "execution_count": 8,
   "metadata": {},
   "outputs": [],
   "source": [
    "dependent = pd.read_csv('data/data.csv')"
   ]
  },
  {
   "cell_type": "code",
   "execution_count": 9,
   "metadata": {},
   "outputs": [
    {
     "data": {
      "text/html": [
       "<div>\n",
       "<style scoped>\n",
       "    .dataframe tbody tr th:only-of-type {\n",
       "        vertical-align: middle;\n",
       "    }\n",
       "\n",
       "    .dataframe tbody tr th {\n",
       "        vertical-align: top;\n",
       "    }\n",
       "\n",
       "    .dataframe thead th {\n",
       "        text-align: right;\n",
       "    }\n",
       "</style>\n",
       "<table border=\"1\" class=\"dataframe\">\n",
       "  <thead>\n",
       "    <tr style=\"text-align: right;\">\n",
       "      <th></th>\n",
       "      <th>Longitude</th>\n",
       "      <th>Latitude</th>\n",
       "      <th>Presence</th>\n",
       "    </tr>\n",
       "  </thead>\n",
       "  <tbody>\n",
       "    <tr>\n",
       "      <th>0</th>\n",
       "      <td>-46.604932</td>\n",
       "      <td>-10.488901</td>\n",
       "      <td>1</td>\n",
       "    </tr>\n",
       "    <tr>\n",
       "      <th>1</th>\n",
       "      <td>-46.595491</td>\n",
       "      <td>-10.569050</td>\n",
       "      <td>1</td>\n",
       "    </tr>\n",
       "    <tr>\n",
       "      <th>2</th>\n",
       "      <td>-46.594709</td>\n",
       "      <td>-10.514405</td>\n",
       "      <td>1</td>\n",
       "    </tr>\n",
       "    <tr>\n",
       "      <th>3</th>\n",
       "      <td>-46.569772</td>\n",
       "      <td>-10.482991</td>\n",
       "      <td>1</td>\n",
       "    </tr>\n",
       "    <tr>\n",
       "      <th>4</th>\n",
       "      <td>-46.616531</td>\n",
       "      <td>-10.445170</td>\n",
       "      <td>1</td>\n",
       "    </tr>\n",
       "    <tr>\n",
       "      <th>...</th>\n",
       "      <td>...</td>\n",
       "      <td>...</td>\n",
       "      <td>...</td>\n",
       "    </tr>\n",
       "    <tr>\n",
       "      <th>209</th>\n",
       "      <td>-48.947257</td>\n",
       "      <td>-8.752118</td>\n",
       "      <td>1</td>\n",
       "    </tr>\n",
       "    <tr>\n",
       "      <th>210</th>\n",
       "      <td>-48.983617</td>\n",
       "      <td>-8.723262</td>\n",
       "      <td>1</td>\n",
       "    </tr>\n",
       "    <tr>\n",
       "      <th>211</th>\n",
       "      <td>-70.256001</td>\n",
       "      <td>0.213383</td>\n",
       "      <td>1</td>\n",
       "    </tr>\n",
       "    <tr>\n",
       "      <th>212</th>\n",
       "      <td>-37.519376</td>\n",
       "      <td>-10.755561</td>\n",
       "      <td>1</td>\n",
       "    </tr>\n",
       "    <tr>\n",
       "      <th>213</th>\n",
       "      <td>-37.471038</td>\n",
       "      <td>-10.582747</td>\n",
       "      <td>1</td>\n",
       "    </tr>\n",
       "  </tbody>\n",
       "</table>\n",
       "<p>214 rows × 3 columns</p>\n",
       "</div>"
      ],
      "text/plain": [
       "     Longitude   Latitude  Presence\n",
       "0   -46.604932 -10.488901         1\n",
       "1   -46.595491 -10.569050         1\n",
       "2   -46.594709 -10.514405         1\n",
       "3   -46.569772 -10.482991         1\n",
       "4   -46.616531 -10.445170         1\n",
       "..         ...        ...       ...\n",
       "209 -48.947257  -8.752118         1\n",
       "210 -48.983617  -8.723262         1\n",
       "211 -70.256001   0.213383         1\n",
       "212 -37.519376 -10.755561         1\n",
       "213 -37.471038 -10.582747         1\n",
       "\n",
       "[214 rows x 3 columns]"
      ]
     },
     "execution_count": 9,
     "metadata": {},
     "output_type": "execute_result"
    }
   ],
   "source": [
    "dependent['Presence'] = 1\n",
    "dependent"
   ]
  },
  {
   "cell_type": "code",
   "execution_count": null,
   "metadata": {},
   "outputs": [],
   "source": [
    "\n",
    "for idx, isolated_vector in enumerate(dependent.values):\n",
    "    \n",
    "    independent['distance'] = independent.apply(lambda row: haversine(isolated_vector[1], isolated_vector[0], row['Latitude'], row['Longitude']), axis=1)\n",
    "    \n",
    "    nearest = independent[independent['distance'] == independent['distance'].min()]\n",
    "\n",
    "    dependent.iloc[idx,:] = (float(nearest['Longitude']), float(nearest['Latitude']), isolated_vector[2])\n"
   ]
  },
  {
   "cell_type": "code",
   "execution_count": null,
   "metadata": {},
   "outputs": [],
   "source": [
    "dependent"
   ]
  },
  {
   "cell_type": "code",
   "execution_count": null,
   "metadata": {},
   "outputs": [],
   "source": [
    "float(nearest['Latitude']), float(nearest['Longitude'])"
   ]
  },
  {
   "cell_type": "code",
   "execution_count": null,
   "metadata": {},
   "outputs": [],
   "source": [
    "df"
   ]
  },
  {
   "cell_type": "code",
   "execution_count": null,
   "metadata": {},
   "outputs": [],
   "source": [
    "import pandas as pd\n",
    "import numpy as np\n",
    "\n",
    "# Create a DataFrame from your dataset\n",
    "data = {\n",
    "    'latitude': [40.7128, 34.0522, 51.5074],  # Example latitudes\n",
    "    'longitude': [-74.0060, -118.2437, -0.1278],  # Example longitudes\n",
    "    # Add more latitude and longitude data here\n",
    "}\n",
    "\n",
    "df = pd.DataFrame(data)\n",
    "\n",
    "# Define the isolated vector\n",
    "isolated_vector = (37.7749, -122.4194)  # San Francisco\n",
    "\n",
    "# Calculate distances using Haversine formula and add a new column to the DataFrame\n",
    "df['distance'] = df.apply(lambda row: haversine(isolated_vector[0], isolated_vector[1], row['latitude'], row['longitude']), axis=1)\n",
    "\n",
    "# Find the nearest vector\n",
    "nearest_row = df[df['distance'] == df['distance'].min()]\n",
    "\n",
    "# Print the nearest vector and distance\n",
    "print(\"Nearest vector:\")\n",
    "print(nearest_row)\n",
    "\n",
    "print(\"Distance:\", nearest_row['distance'].values[0], \"km\")"
   ]
  },
  {
   "cell_type": "code",
   "execution_count": 11,
   "metadata": {},
   "outputs": [
    {
     "data": {
      "text/html": [
       "<div>\n",
       "<style scoped>\n",
       "    .dataframe tbody tr th:only-of-type {\n",
       "        vertical-align: middle;\n",
       "    }\n",
       "\n",
       "    .dataframe tbody tr th {\n",
       "        vertical-align: top;\n",
       "    }\n",
       "\n",
       "    .dataframe thead th {\n",
       "        text-align: right;\n",
       "    }\n",
       "</style>\n",
       "<table border=\"1\" class=\"dataframe\">\n",
       "  <thead>\n",
       "    <tr style=\"text-align: right;\">\n",
       "      <th></th>\n",
       "      <th>mean</th>\n",
       "    </tr>\n",
       "  </thead>\n",
       "  <tbody>\n",
       "  </tbody>\n",
       "</table>\n",
       "</div>"
      ],
      "text/plain": [
       "Empty DataFrame\n",
       "Columns: [mean]\n",
       "Index: []"
      ]
     },
     "execution_count": 11,
     "metadata": {},
     "output_type": "execute_result"
    }
   ],
   "source": [
    "import copy \n",
    "dep_copy = copy.deepcopy(dependent)\n",
    "\n",
    "##Variables analysis    (presence, independent)\n",
    "\n",
    "analysis = dependent.describe().loc[['mean'], ].iloc[:, 2:-1].T.reset_index(drop=True)\n",
    "\n"
   ]
  },
  {
   "cell_type": "code",
   "execution_count": null,
   "metadata": {},
   "outputs": [],
   "source": [
    "import numpy as np\n",
    "\n",
    "def haversine(lat1, lon1, lat2, lon2):\n",
    "    \"\"\"\n",
    "    Calculate the great-circle distance between two points \n",
    "    on the Earth's surface using the Haversine formula.\n",
    "    \"\"\"\n",
    "    R = 6371.0  # Earth radius in kilometers\n",
    "\n",
    "    lat1_rad = np.radians(lat1)\n",
    "    lon1_rad = np.radians(lon1)\n",
    "    lat2_rad = np.radians(lat2)\n",
    "    lon2_rad = np.radians(lon2)\n",
    "\n",
    "    dlat = lat2_rad - lat1_rad\n",
    "    dlon = lon2_rad - lon1_rad\n",
    "\n",
    "    a = np.sin(dlat / 2.0) ** 2 + np.cos(lat1_rad) * np.cos(lat2_rad) * np.sin(dlon / 2.0) ** 2\n",
    "    c = 2 * np.arctan2(np.sqrt(a), np.sqrt(1 - a))\n",
    "\n",
    "    distance = R * c\n",
    "    return distance\n",
    "\n",
    "def find_nearest_vector(dataset, isolated_vector):\n",
    "    min_distance = float('inf')\n",
    "    nearest_vector = None\n",
    "\n",
    "    for vector in dataset:\n",
    "        distance = haversine(isolated_vector[0], isolated_vector[1], vector[0], vector[1])\n",
    "        if distance < min_distance:\n",
    "            min_distance = distance\n",
    "            nearest_vector = vector\n",
    "\n",
    "    return nearest_vector, min_distance\n",
    "\n",
    "# Example usage\n",
    "dataset = [\n",
    "    (40.7128, -74.0060),  # New York City\n",
    "    (34.0522, -118.2437),  # Los Angeles\n",
    "    (51.5074, -0.1278),    # London\n",
    "]\n",
    "\n",
    "isolated_vector = (37.7749, -122.4194)  # San Francisco\n",
    "\n",
    "nearest_vector, distance = find_nearest_vector(dataset, isolated_vector)\n",
    "\n",
    "print(\"Nearest vector:\", nearest_vector)\n",
    "print(\"Distance:\", distance, \"km\")"
   ]
  },
  {
   "cell_type": "code",
   "execution_count": 4,
   "metadata": {},
   "outputs": [
    {
     "data": {
      "text/plain": [
       "1.0"
      ]
     },
     "execution_count": 4,
     "metadata": {},
     "output_type": "execute_result"
    }
   ],
   "source": [
    "np.linalg.norm(2-3)"
   ]
  },
  {
   "cell_type": "code",
   "execution_count": null,
   "metadata": {},
   "outputs": [],
   "source": [
    "import pandas as pd\n",
    "data = {(1,2),(3,4)}\n",
    "pd.DataFrame(data)"
   ]
  }
 ],
 "metadata": {
  "kernelspec": {
   "display_name": "Python 3",
   "language": "python",
   "name": "python3"
  },
  "language_info": {
   "codemirror_mode": {
    "name": "ipython",
    "version": 3
   },
   "file_extension": ".py",
   "mimetype": "text/x-python",
   "name": "python",
   "nbconvert_exporter": "python",
   "pygments_lexer": "ipython3",
   "version": "3.10.11"
  },
  "orig_nbformat": 4
 },
 "nbformat": 4,
 "nbformat_minor": 2
}
